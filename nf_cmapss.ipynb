{
  "nbformat": 4,
  "nbformat_minor": 0,
  "metadata": {
    "colab": {
      "name": "nf_cmapss.ipynb",
      "provenance": []
    },
    "kernelspec": {
      "name": "python3",
      "display_name": "Python 3"
    },
    "language_info": {
      "name": "python"
    },
    "accelerator": "GPU"
  },
  "cells": [
    {
      "cell_type": "code",
      "source": [
        "!git clone https://github.com/TaeniKim/nbeats_reproduce.git"
      ],
      "metadata": {
        "colab": {
          "base_uri": "https://localhost:8080/"
        },
        "id": "Lj14ZkIlJ0ma",
        "outputId": "22ae1b78-3792-4da2-b2ca-91a3cff097e1"
      },
      "execution_count": 1,
      "outputs": [
        {
          "output_type": "stream",
          "name": "stdout",
          "text": [
            "Cloning into 'nbeats_reproduce'...\n",
            "remote: Enumerating objects: 95, done.\u001b[K\n",
            "remote: Counting objects: 100% (23/23), done.\u001b[K\n",
            "remote: Compressing objects: 100% (21/21), done.\u001b[K\n",
            "remote: Total 95 (delta 4), reused 21 (delta 2), pack-reused 72\u001b[K\n",
            "Unpacking objects: 100% (95/95), done.\n",
            "Checking out files: 100% (35/35), done.\n"
          ]
        }
      ]
    },
    {
      "cell_type": "code",
      "source": [
        "!pip install neuralforecast"
      ],
      "metadata": {
        "id": "ZzETinpNFr0-",
        "colab": {
          "base_uri": "https://localhost:8080/"
        },
        "outputId": "038e1dfa-748d-4d8b-f2b2-6eba8f6d15b4"
      },
      "execution_count": 2,
      "outputs": [
        {
          "output_type": "stream",
          "name": "stdout",
          "text": [
            "Collecting neuralforecast\n",
            "  Downloading neuralforecast-0.0.9-py3-none-any.whl (143 kB)\n",
            "\u001b[K     |████████████████████████████████| 143 kB 8.5 MB/s \n",
            "\u001b[?25hRequirement already satisfied: requests in /usr/local/lib/python3.7/dist-packages (from neuralforecast) (2.23.0)\n",
            "Requirement already satisfied: openpyxl in /usr/local/lib/python3.7/dist-packages (from neuralforecast) (3.0.9)\n",
            "Collecting pytorch-lightning>=1.3.0\n",
            "  Downloading pytorch_lightning-1.6.3-py3-none-any.whl (584 kB)\n",
            "\u001b[K     |████████████████████████████████| 584 kB 44.9 MB/s \n",
            "\u001b[?25hRequirement already satisfied: statsmodels in /usr/local/lib/python3.7/dist-packages (from neuralforecast) (0.10.2)\n",
            "Collecting py7zr\n",
            "  Downloading py7zr-0.18.6.tar.gz (4.9 MB)\n",
            "\u001b[K     |████████████████████████████████| 4.9 MB 46.5 MB/s \n",
            "\u001b[?25h  Installing build dependencies ... \u001b[?25l\u001b[?25hdone\n",
            "  Getting requirements to build wheel ... \u001b[?25l\u001b[?25hdone\n",
            "    Preparing wheel metadata ... \u001b[?25l\u001b[?25hdone\n",
            "Requirement already satisfied: pip in /usr/local/lib/python3.7/dist-packages (from neuralforecast) (21.1.3)\n",
            "Requirement already satisfied: gdown in /usr/local/lib/python3.7/dist-packages (from neuralforecast) (4.4.0)\n",
            "Requirement already satisfied: hyperopt in /usr/local/lib/python3.7/dist-packages (from neuralforecast) (0.1.2)\n",
            "Collecting fastcore\n",
            "  Downloading fastcore-1.4.3-py3-none-any.whl (59 kB)\n",
            "\u001b[K     |████████████████████████████████| 59 kB 7.7 MB/s \n",
            "\u001b[?25hRequirement already satisfied: xlrd in /usr/local/lib/python3.7/dist-packages (from neuralforecast) (1.1.0)\n",
            "Collecting torchinfo\n",
            "  Downloading torchinfo-1.6.6-py3-none-any.whl (21 kB)\n",
            "Requirement already satisfied: numba in /usr/local/lib/python3.7/dist-packages (from neuralforecast) (0.51.2)\n",
            "Requirement already satisfied: torch>=1.4 in /usr/local/lib/python3.7/dist-packages (from neuralforecast) (1.11.0+cu113)\n",
            "Requirement already satisfied: scikit-learn in /usr/local/lib/python3.7/dist-packages (from neuralforecast) (1.0.2)\n",
            "Requirement already satisfied: matplotlib in /usr/local/lib/python3.7/dist-packages (from neuralforecast) (3.2.2)\n",
            "Requirement already satisfied: pandas in /usr/local/lib/python3.7/dist-packages (from neuralforecast) (1.3.5)\n",
            "Requirement already satisfied: tqdm in /usr/local/lib/python3.7/dist-packages (from neuralforecast) (4.64.0)\n",
            "Collecting pyDeprecate<0.4.0,>=0.3.1\n",
            "  Downloading pyDeprecate-0.3.2-py3-none-any.whl (10 kB)\n",
            "Requirement already satisfied: numpy>=1.17.2 in /usr/local/lib/python3.7/dist-packages (from pytorch-lightning>=1.3.0->neuralforecast) (1.21.6)\n",
            "Collecting fsspec[http]!=2021.06.0,>=2021.05.0\n",
            "  Downloading fsspec-2022.5.0-py3-none-any.whl (140 kB)\n",
            "\u001b[K     |████████████████████████████████| 140 kB 75.1 MB/s \n",
            "\u001b[?25hRequirement already satisfied: tensorboard>=2.2.0 in /usr/local/lib/python3.7/dist-packages (from pytorch-lightning>=1.3.0->neuralforecast) (2.8.0)\n",
            "Collecting PyYAML>=5.4\n",
            "  Downloading PyYAML-6.0-cp37-cp37m-manylinux_2_5_x86_64.manylinux1_x86_64.manylinux_2_12_x86_64.manylinux2010_x86_64.whl (596 kB)\n",
            "\u001b[K     |████████████████████████████████| 596 kB 71.7 MB/s \n",
            "\u001b[?25hCollecting torchmetrics>=0.4.1\n",
            "  Downloading torchmetrics-0.8.2-py3-none-any.whl (409 kB)\n",
            "\u001b[K     |████████████████████████████████| 409 kB 71.7 MB/s \n",
            "\u001b[?25hRequirement already satisfied: typing-extensions>=4.0.0 in /usr/local/lib/python3.7/dist-packages (from pytorch-lightning>=1.3.0->neuralforecast) (4.2.0)\n",
            "Requirement already satisfied: packaging>=17.0 in /usr/local/lib/python3.7/dist-packages (from pytorch-lightning>=1.3.0->neuralforecast) (21.3)\n",
            "Collecting aiohttp\n",
            "  Downloading aiohttp-3.8.1-cp37-cp37m-manylinux_2_5_x86_64.manylinux1_x86_64.manylinux_2_12_x86_64.manylinux2010_x86_64.whl (1.1 MB)\n",
            "\u001b[K     |████████████████████████████████| 1.1 MB 16.2 MB/s \n",
            "\u001b[?25hRequirement already satisfied: pyparsing!=3.0.5,>=2.0.2 in /usr/local/lib/python3.7/dist-packages (from packaging>=17.0->pytorch-lightning>=1.3.0->neuralforecast) (3.0.9)\n",
            "Requirement already satisfied: setuptools>=41.0.0 in /usr/local/lib/python3.7/dist-packages (from tensorboard>=2.2.0->pytorch-lightning>=1.3.0->neuralforecast) (57.4.0)\n",
            "Requirement already satisfied: wheel>=0.26 in /usr/local/lib/python3.7/dist-packages (from tensorboard>=2.2.0->pytorch-lightning>=1.3.0->neuralforecast) (0.37.1)\n",
            "Requirement already satisfied: absl-py>=0.4 in /usr/local/lib/python3.7/dist-packages (from tensorboard>=2.2.0->pytorch-lightning>=1.3.0->neuralforecast) (1.0.0)\n",
            "Requirement already satisfied: google-auth-oauthlib<0.5,>=0.4.1 in /usr/local/lib/python3.7/dist-packages (from tensorboard>=2.2.0->pytorch-lightning>=1.3.0->neuralforecast) (0.4.6)\n",
            "Requirement already satisfied: protobuf>=3.6.0 in /usr/local/lib/python3.7/dist-packages (from tensorboard>=2.2.0->pytorch-lightning>=1.3.0->neuralforecast) (3.17.3)\n",
            "Requirement already satisfied: tensorboard-data-server<0.7.0,>=0.6.0 in /usr/local/lib/python3.7/dist-packages (from tensorboard>=2.2.0->pytorch-lightning>=1.3.0->neuralforecast) (0.6.1)\n",
            "Requirement already satisfied: tensorboard-plugin-wit>=1.6.0 in /usr/local/lib/python3.7/dist-packages (from tensorboard>=2.2.0->pytorch-lightning>=1.3.0->neuralforecast) (1.8.1)\n",
            "Requirement already satisfied: werkzeug>=0.11.15 in /usr/local/lib/python3.7/dist-packages (from tensorboard>=2.2.0->pytorch-lightning>=1.3.0->neuralforecast) (1.0.1)\n",
            "Requirement already satisfied: grpcio>=1.24.3 in /usr/local/lib/python3.7/dist-packages (from tensorboard>=2.2.0->pytorch-lightning>=1.3.0->neuralforecast) (1.46.1)\n",
            "Requirement already satisfied: google-auth<3,>=1.6.3 in /usr/local/lib/python3.7/dist-packages (from tensorboard>=2.2.0->pytorch-lightning>=1.3.0->neuralforecast) (1.35.0)\n",
            "Requirement already satisfied: markdown>=2.6.8 in /usr/local/lib/python3.7/dist-packages (from tensorboard>=2.2.0->pytorch-lightning>=1.3.0->neuralforecast) (3.3.7)\n",
            "Requirement already satisfied: six in /usr/local/lib/python3.7/dist-packages (from absl-py>=0.4->tensorboard>=2.2.0->pytorch-lightning>=1.3.0->neuralforecast) (1.15.0)\n",
            "Requirement already satisfied: cachetools<5.0,>=2.0.0 in /usr/local/lib/python3.7/dist-packages (from google-auth<3,>=1.6.3->tensorboard>=2.2.0->pytorch-lightning>=1.3.0->neuralforecast) (4.2.4)\n",
            "Requirement already satisfied: pyasn1-modules>=0.2.1 in /usr/local/lib/python3.7/dist-packages (from google-auth<3,>=1.6.3->tensorboard>=2.2.0->pytorch-lightning>=1.3.0->neuralforecast) (0.2.8)\n",
            "Requirement already satisfied: rsa<5,>=3.1.4 in /usr/local/lib/python3.7/dist-packages (from google-auth<3,>=1.6.3->tensorboard>=2.2.0->pytorch-lightning>=1.3.0->neuralforecast) (4.8)\n",
            "Requirement already satisfied: requests-oauthlib>=0.7.0 in /usr/local/lib/python3.7/dist-packages (from google-auth-oauthlib<0.5,>=0.4.1->tensorboard>=2.2.0->pytorch-lightning>=1.3.0->neuralforecast) (1.3.1)\n",
            "Requirement already satisfied: importlib-metadata>=4.4 in /usr/local/lib/python3.7/dist-packages (from markdown>=2.6.8->tensorboard>=2.2.0->pytorch-lightning>=1.3.0->neuralforecast) (4.11.3)\n",
            "Requirement already satisfied: zipp>=0.5 in /usr/local/lib/python3.7/dist-packages (from importlib-metadata>=4.4->markdown>=2.6.8->tensorboard>=2.2.0->pytorch-lightning>=1.3.0->neuralforecast) (3.8.0)\n",
            "Requirement already satisfied: pyasn1<0.5.0,>=0.4.6 in /usr/local/lib/python3.7/dist-packages (from pyasn1-modules>=0.2.1->google-auth<3,>=1.6.3->tensorboard>=2.2.0->pytorch-lightning>=1.3.0->neuralforecast) (0.4.8)\n",
            "Requirement already satisfied: certifi>=2017.4.17 in /usr/local/lib/python3.7/dist-packages (from requests->neuralforecast) (2021.10.8)\n",
            "Requirement already satisfied: urllib3!=1.25.0,!=1.25.1,<1.26,>=1.21.1 in /usr/local/lib/python3.7/dist-packages (from requests->neuralforecast) (1.24.3)\n",
            "Requirement already satisfied: idna<3,>=2.5 in /usr/local/lib/python3.7/dist-packages (from requests->neuralforecast) (2.10)\n",
            "Requirement already satisfied: chardet<4,>=3.0.2 in /usr/local/lib/python3.7/dist-packages (from requests->neuralforecast) (3.0.4)\n",
            "Requirement already satisfied: oauthlib>=3.0.0 in /usr/local/lib/python3.7/dist-packages (from requests-oauthlib>=0.7.0->google-auth-oauthlib<0.5,>=0.4.1->tensorboard>=2.2.0->pytorch-lightning>=1.3.0->neuralforecast) (3.2.0)\n",
            "Collecting asynctest==0.13.0\n",
            "  Downloading asynctest-0.13.0-py3-none-any.whl (26 kB)\n",
            "Requirement already satisfied: charset-normalizer<3.0,>=2.0 in /usr/local/lib/python3.7/dist-packages (from aiohttp->fsspec[http]!=2021.06.0,>=2021.05.0->pytorch-lightning>=1.3.0->neuralforecast) (2.0.12)\n",
            "Collecting async-timeout<5.0,>=4.0.0a3\n",
            "  Downloading async_timeout-4.0.2-py3-none-any.whl (5.8 kB)\n",
            "Collecting multidict<7.0,>=4.5\n",
            "  Downloading multidict-6.0.2-cp37-cp37m-manylinux_2_17_x86_64.manylinux2014_x86_64.whl (94 kB)\n",
            "\u001b[K     |████████████████████████████████| 94 kB 4.3 MB/s \n",
            "\u001b[?25hCollecting aiosignal>=1.1.2\n",
            "  Downloading aiosignal-1.2.0-py3-none-any.whl (8.2 kB)\n",
            "Collecting frozenlist>=1.1.1\n",
            "  Downloading frozenlist-1.3.0-cp37-cp37m-manylinux_2_5_x86_64.manylinux1_x86_64.manylinux_2_17_x86_64.manylinux2014_x86_64.whl (144 kB)\n",
            "\u001b[K     |████████████████████████████████| 144 kB 1.9 MB/s \n",
            "\u001b[?25hRequirement already satisfied: attrs>=17.3.0 in /usr/local/lib/python3.7/dist-packages (from aiohttp->fsspec[http]!=2021.06.0,>=2021.05.0->pytorch-lightning>=1.3.0->neuralforecast) (21.4.0)\n",
            "Collecting yarl<2.0,>=1.0\n",
            "  Downloading yarl-1.7.2-cp37-cp37m-manylinux_2_5_x86_64.manylinux1_x86_64.manylinux_2_12_x86_64.manylinux2010_x86_64.whl (271 kB)\n",
            "\u001b[K     |████████████████████████████████| 271 kB 70.5 MB/s \n",
            "\u001b[?25hRequirement already satisfied: beautifulsoup4 in /usr/local/lib/python3.7/dist-packages (from gdown->neuralforecast) (4.6.3)\n",
            "Requirement already satisfied: filelock in /usr/local/lib/python3.7/dist-packages (from gdown->neuralforecast) (3.7.0)\n",
            "Requirement already satisfied: networkx in /usr/local/lib/python3.7/dist-packages (from hyperopt->neuralforecast) (2.6.3)\n",
            "Requirement already satisfied: pymongo in /usr/local/lib/python3.7/dist-packages (from hyperopt->neuralforecast) (4.1.1)\n",
            "Requirement already satisfied: future in /usr/local/lib/python3.7/dist-packages (from hyperopt->neuralforecast) (0.16.0)\n",
            "Requirement already satisfied: scipy in /usr/local/lib/python3.7/dist-packages (from hyperopt->neuralforecast) (1.4.1)\n",
            "Requirement already satisfied: kiwisolver>=1.0.1 in /usr/local/lib/python3.7/dist-packages (from matplotlib->neuralforecast) (1.4.2)\n",
            "Requirement already satisfied: python-dateutil>=2.1 in /usr/local/lib/python3.7/dist-packages (from matplotlib->neuralforecast) (2.8.2)\n",
            "Requirement already satisfied: cycler>=0.10 in /usr/local/lib/python3.7/dist-packages (from matplotlib->neuralforecast) (0.11.0)\n",
            "Requirement already satisfied: llvmlite<0.35,>=0.34.0.dev0 in /usr/local/lib/python3.7/dist-packages (from numba->neuralforecast) (0.34.0)\n",
            "Requirement already satisfied: et-xmlfile in /usr/local/lib/python3.7/dist-packages (from openpyxl->neuralforecast) (1.1.0)\n",
            "Requirement already satisfied: pytz>=2017.3 in /usr/local/lib/python3.7/dist-packages (from pandas->neuralforecast) (2022.1)\n",
            "Collecting pyzstd>=0.14.4\n",
            "  Downloading pyzstd-0.15.2-cp37-cp37m-manylinux_2_17_x86_64.manylinux2014_x86_64.whl (2.4 MB)\n",
            "\u001b[K     |████████████████████████████████| 2.4 MB 63.6 MB/s \n",
            "\u001b[?25hCollecting pycryptodomex>=3.6.6\n",
            "  Downloading pycryptodomex-3.14.1-cp35-abi3-manylinux2010_x86_64.whl (2.0 MB)\n",
            "\u001b[K     |████████████████████████████████| 2.0 MB 60.9 MB/s \n",
            "\u001b[?25hRequirement already satisfied: psutil in /usr/local/lib/python3.7/dist-packages (from py7zr->neuralforecast) (5.4.8)\n",
            "Collecting pybcj>=0.6.0\n",
            "  Downloading pybcj-0.6.0-cp37-cp37m-manylinux_2_17_x86_64.manylinux2014_x86_64.whl (59 kB)\n",
            "\u001b[K     |████████████████████████████████| 59 kB 8.9 MB/s \n",
            "\u001b[?25hCollecting multivolumefile>=0.2.3\n",
            "  Downloading multivolumefile-0.2.3-py3-none-any.whl (17 kB)\n",
            "Collecting zipfile-deflate64>=0.2.0\n",
            "  Downloading zipfile_deflate64-0.2.0-cp37-cp37m-manylinux_2_17_x86_64.manylinux2014_x86_64.whl (43 kB)\n",
            "\u001b[K     |████████████████████████████████| 43 kB 1.8 MB/s \n",
            "\u001b[?25hCollecting brotli>=1.0.9\n",
            "  Downloading Brotli-1.0.9-cp37-cp37m-manylinux1_x86_64.whl (357 kB)\n",
            "\u001b[K     |████████████████████████████████| 357 kB 69.2 MB/s \n",
            "\u001b[?25hCollecting pyppmd<0.19.0,>=0.18.1\n",
            "  Downloading pyppmd-0.18.2-cp37-cp37m-manylinux_2_17_x86_64.manylinux2014_x86_64.whl (131 kB)\n",
            "\u001b[K     |████████████████████████████████| 131 kB 77.3 MB/s \n",
            "\u001b[?25hCollecting texttable\n",
            "  Downloading texttable-1.6.4-py2.py3-none-any.whl (10 kB)\n",
            "Requirement already satisfied: PySocks!=1.5.7,>=1.5.6 in /usr/local/lib/python3.7/dist-packages (from requests->neuralforecast) (1.7.1)\n",
            "Requirement already satisfied: joblib>=0.11 in /usr/local/lib/python3.7/dist-packages (from scikit-learn->neuralforecast) (1.1.0)\n",
            "Requirement already satisfied: threadpoolctl>=2.0.0 in /usr/local/lib/python3.7/dist-packages (from scikit-learn->neuralforecast) (3.1.0)\n",
            "Requirement already satisfied: patsy>=0.4.0 in /usr/local/lib/python3.7/dist-packages (from statsmodels->neuralforecast) (0.5.2)\n",
            "Building wheels for collected packages: py7zr\n",
            "  Building wheel for py7zr (PEP 517) ... \u001b[?25l\u001b[?25hdone\n",
            "  Created wheel for py7zr: filename=py7zr-0.18.6-py3-none-any.whl size=67365 sha256=433bd16fcba2a49ab7995997705a3664475ab1068817fd3873816178ad8678e1\n",
            "  Stored in directory: /root/.cache/pip/wheels/e1/c9/49/9e883dd4eb95f0b4808f9ec27b8a39b80ee14855642916e6d2\n",
            "Successfully built py7zr\n",
            "Installing collected packages: multidict, frozenlist, yarl, asynctest, async-timeout, aiosignal, pyDeprecate, fsspec, aiohttp, zipfile-deflate64, torchmetrics, texttable, pyzstd, PyYAML, pyppmd, pycryptodomex, pybcj, multivolumefile, brotli, torchinfo, pytorch-lightning, py7zr, fastcore, neuralforecast\n",
            "  Attempting uninstall: PyYAML\n",
            "    Found existing installation: PyYAML 3.13\n",
            "    Uninstalling PyYAML-3.13:\n",
            "      Successfully uninstalled PyYAML-3.13\n",
            "Successfully installed PyYAML-6.0 aiohttp-3.8.1 aiosignal-1.2.0 async-timeout-4.0.2 asynctest-0.13.0 brotli-1.0.9 fastcore-1.4.3 frozenlist-1.3.0 fsspec-2022.5.0 multidict-6.0.2 multivolumefile-0.2.3 neuralforecast-0.0.9 py7zr-0.18.6 pyDeprecate-0.3.2 pybcj-0.6.0 pycryptodomex-3.14.1 pyppmd-0.18.2 pytorch-lightning-1.6.3 pyzstd-0.15.2 texttable-1.6.4 torchinfo-1.6.6 torchmetrics-0.8.2 yarl-1.7.2 zipfile-deflate64-0.2.0\n"
          ]
        }
      ]
    },
    {
      "cell_type": "code",
      "execution_count": 3,
      "metadata": {
        "colab": {
          "base_uri": "https://localhost:8080/"
        },
        "id": "Jp2gz1OkFjN1",
        "outputId": "6095ccc2-fce3-447a-e070-c12f8fa6d270"
      },
      "outputs": [
        {
          "output_type": "stream",
          "name": "stderr",
          "text": [
            "/usr/local/lib/python3.7/dist-packages/statsmodels/tools/_testing.py:19: FutureWarning: pandas.util.testing is deprecated. Use the functions in the public API at pandas.testing instead.\n",
            "  import pandas.util.testing as tm\n"
          ]
        }
      ],
      "source": [
        "import neuralforecast as nf\n",
        "import numpy as np\n",
        "import pandas as pd\n",
        "import pytorch_lightning as pl\n",
        "import torch as t\n",
        "import matplotlib.pyplot as plt\n",
        "from sklearn.preprocessing import StandardScaler\n",
        "from sklearn.model_selection import GroupShuffleSplit\n",
        "\n",
        "from typing import Tuple\n",
        "from pathlib import Path"
      ]
    },
    {
      "cell_type": "code",
      "source": [
        "# --------------------------------------- DATA PRE-PROCESSING ---------------------------------------\n",
        "def add_remaining_useful_life(df):\n",
        "    # Get the total number of cycles for each unit\n",
        "    grouped_by_unit = df.groupby(by=\"unit_nr\")\n",
        "    max_cycle = grouped_by_unit[\"time_cycles\"].max()\n",
        "    \n",
        "    # Merge the max cycle back into the original frame\n",
        "    result_frame = df.merge(max_cycle.to_frame(name='max_cycle'), left_on='unit_nr', right_index=True)\n",
        "    \n",
        "    # Calculate remaining useful life for each row\n",
        "    remaining_useful_life = result_frame[\"max_cycle\"] - result_frame[\"time_cycles\"]\n",
        "    result_frame[\"RUL\"] = remaining_useful_life\n",
        "    \n",
        "    # drop max_cycle as it's no longer needed\n",
        "    result_frame = result_frame.drop(\"max_cycle\", axis=1)\n",
        "    return result_frame\n",
        "\n",
        "def add_operating_condition(df):\n",
        "    df_op_cond = df.copy()\n",
        "    \n",
        "    df_op_cond['setting_1'] = abs(df_op_cond['setting_1'].round())\n",
        "    df_op_cond['setting_2'] = abs(df_op_cond['setting_2'].round(decimals=2))\n",
        "    \n",
        "    # converting settings to string and concatanating makes the operating condition into a categorical variable\n",
        "    df_op_cond['op_cond'] = df_op_cond['setting_1'].astype(str) + '_' + \\\n",
        "                        df_op_cond['setting_2'].astype(str) + '_' + \\\n",
        "                        df_op_cond['setting_3'].astype(str)\n",
        "    \n",
        "    return df_op_cond\n",
        "\n",
        "def condition_scaler(df_train, df_test, sensor_names):\n",
        "    # apply operating condition specific scaling\n",
        "    scaler = StandardScaler()\n",
        "    for condition in df_train['op_cond'].unique():\n",
        "        scaler.fit(df_train.loc[df_train['op_cond']==condition, sensor_names])\n",
        "        df_train.loc[df_train['op_cond']==condition, sensor_names] = scaler.transform(df_train.loc[df_train['op_cond']==condition, sensor_names])\n",
        "        df_test.loc[df_test['op_cond']==condition, sensor_names] = scaler.transform(df_test.loc[df_test['op_cond']==condition, sensor_names])\n",
        "    return df_train, df_test\n",
        "\n",
        "def exponential_smoothing(df, sensors, n_samples, alpha=0.4):\n",
        "    df = df.copy()\n",
        "    # first, take the exponential weighted mean\n",
        "    df[sensors] = df.groupby('unit_nr')[sensors].apply(lambda x: x.ewm(alpha=alpha).mean()).reset_index(level=0, drop=True)\n",
        "    \n",
        "    # second, drop first n_samples of each unit_nr to reduce filter delay\n",
        "    def create_mask(data, samples):\n",
        "        result = np.ones_like(data)\n",
        "        result[0:samples] = 0\n",
        "        return result\n",
        "    \n",
        "    mask = df.groupby('unit_nr')['unit_nr'].transform(create_mask, samples=n_samples).astype(bool)\n",
        "    df = df[mask]\n",
        "    \n",
        "    return df\n",
        "\n",
        "def gen_train_data(df, sequence_length, columns):\n",
        "    data = df[columns].values\n",
        "    num_elements = data.shape[0]\n",
        "\n",
        "    # -1 and +1 because of Python indexing\n",
        "    for start, stop in zip(range(0, num_elements-(sequence_length-1)), range(sequence_length, num_elements+1)):\n",
        "        yield data[start:stop, :]\n",
        "        \n",
        "def gen_data_wrapper(df, sequence_length, columns, unit_nrs=np.array([])):\n",
        "    if unit_nrs.size <= 0:\n",
        "        unit_nrs = df['unit_nr'].unique()\n",
        "        \n",
        "    data_gen = (list(gen_train_data(df[df['unit_nr']==unit_nr], sequence_length, columns))\n",
        "               for unit_nr in unit_nrs)\n",
        "    data_array = np.concatenate(list(data_gen)).astype(np.float32)\n",
        "    return data_array\n",
        "\n",
        "def gen_labels(df, sequence_length, label):\n",
        "    data_matrix = df[label].values\n",
        "    num_elements = data_matrix.shape[0]\n",
        "\n",
        "    # -1 because I want to predict the rul of that last row in the sequence, not the next row\n",
        "    return data_matrix[sequence_length-1:num_elements, :]  \n",
        "\n",
        "def gen_label_wrapper(df, sequence_length, label, unit_nrs=np.array([])):\n",
        "    if unit_nrs.size <= 0:\n",
        "        unit_nrs = df['unit_nr'].unique()\n",
        "        \n",
        "    label_gen = [gen_labels(df[df['unit_nr']==unit_nr], sequence_length, label) \n",
        "                for unit_nr in unit_nrs]\n",
        "    label_array = np.concatenate(label_gen).astype(np.float32)\n",
        "    return label_array\n",
        "\n",
        "def gen_test_data(df, sequence_length, columns, mask_value):\n",
        "    if df.shape[0] < sequence_length:\n",
        "        data_matrix = np.full(shape=(sequence_length, len(columns)), fill_value=mask_value) # pad\n",
        "        idx = data_matrix.shape[0] - df.shape[0]\n",
        "        data_matrix[idx:,:] = df[columns].values  # fill with available data\n",
        "    else:\n",
        "        data_matrix = df[columns].values\n",
        "        \n",
        "    # specifically yield the last possible sequence\n",
        "    stop = data_matrix.shape[0]\n",
        "    start = stop - sequence_length\n",
        "    for i in list(range(1)):\n",
        "        yield data_matrix[start:stop, :]  \n",
        "\n",
        "def get_data(dataset, sensors, sequence_length, alpha, threshold):\n",
        "\t# files\n",
        "\tdir_path = '/content/nbeats_reproduce/datasets/cmapss/'\n",
        "\ttrain_file = 'train_'+dataset+'.txt'\n",
        "\ttest_file = 'test_'+dataset+'.txt'\n",
        "    # columns\n",
        "\tindex_names = ['unit_nr', 'time_cycles']\n",
        "\tsetting_names = ['setting_1', 'setting_2', 'setting_3']\n",
        "\tsensor_names = ['s_{}'.format(i+1) for i in range(0,21)]\n",
        "\tcol_names = index_names + setting_names + sensor_names\n",
        "    # data readout\n",
        "\ttrain = pd.read_csv((dir_path+train_file), sep=r'\\s+', header=None, \n",
        "\t\t\t\t\t names=col_names)\n",
        "\ttest = pd.read_csv((dir_path+test_file), sep=r'\\s+', header=None, \n",
        "\t\t\t\t\t names=col_names)\n",
        "\ty_test = pd.read_csv((dir_path+'RUL_'+dataset+'.txt'), sep=r'\\s+', header=None, \n",
        "\t\t\t\t\t names=['RemainingUsefulLife'])\n",
        "\n",
        "    # create RUL values according to the piece-wise target function\n",
        "\ttrain = add_remaining_useful_life(train)\n",
        "\ttrain['RUL'].clip(upper=threshold, inplace=True)\n",
        "\n",
        "    # remove unused sensors\n",
        "\tdrop_sensors = [element for element in sensor_names if element not in sensors]\n",
        "\n",
        "    # scale with respect to the operating condition\n",
        "\tX_train_pre = add_operating_condition(train.drop(drop_sensors, axis=1))\n",
        "\tX_test_pre = add_operating_condition(test.drop(drop_sensors, axis=1))\n",
        "\tX_train_pre, X_test_pre = condition_scaler(X_train_pre, X_test_pre, sensors)\n",
        "\n",
        "    # exponential smoothing\n",
        "\tX_train_pre= exponential_smoothing(X_train_pre, sensors, 0, alpha)\n",
        "\tX_test_pre = exponential_smoothing(X_test_pre, sensors, 0, alpha)\n",
        "    \n",
        "\n",
        "\t# train-val split\n",
        "\tgss = GroupShuffleSplit(n_splits=1, train_size=0.80, random_state=42)\n",
        "\t# generate the train/val for *each* sample -> for that we iterate over the train and val units we want\n",
        "\t# this is a for that iterates only once and in that iterations at the same time iterates over all the values we want,\n",
        "\t# i.e. train_unit and val_unit are not a single value but a set of training/vali units\n",
        "\tfor train_unit, val_unit in gss.split(X_train_pre['unit_nr'].unique(), groups=X_train_pre['unit_nr'].unique()): \n",
        "\t\ttrain_unit = X_train_pre['unit_nr'].unique()[train_unit]  # gss returns indexes and index starts at 1\n",
        "\t\tval_unit = X_train_pre['unit_nr'].unique()[val_unit]\n",
        "\n",
        "\t\tx_train = gen_data_wrapper(X_train_pre, sequence_length, sensors, train_unit)\n",
        "\t\ty_train = gen_data_wrapper(X_train_pre, sequence_length, ['RUL'], train_unit)\n",
        "\t\t\n",
        "\t\tx_val = gen_data_wrapper(X_train_pre, sequence_length, sensors, val_unit)\n",
        "\t\ty_val = gen_data_wrapper(X_train_pre, sequence_length, ['RUL'], val_unit)\n",
        "  \n",
        "  # create sequences for test \n",
        "\ttest_unit = X_test_pre['unit_nr'].unique()\n",
        "\tx_test_index = [len(X_test_pre[X_test_pre.unit_nr == c]) for c in test_unit]\n",
        "\tx_test = gen_data_wrapper(X_test_pre, sequence_length, sensors, test_unit)\n",
        "    \n",
        "\t#test_gen = (list(gen_test_data(X_test_pre[X_test_pre['unit_nr']==unit_nr], sequence_length, sensors, -99.))\n",
        "\t#\t\t   for unit_nr in X_test_pre['unit_nr'].unique())\n",
        "\t#x_test = np.concatenate(list(test_gen)).astype(np.float32)\n",
        "\n",
        "\ty_test = [list(range(v+sequence_length-1, v-1, -1)) for i, v in enumerate(y_test['RemainingUsefulLife'])]\n",
        "\ty_test = np.array(y_test, dtype='float32')\n",
        "\ty_test = y_test[:,:, np.newaxis]    \n",
        "    \n",
        "\treturn x_train, y_train, x_val, y_val, x_test, y_test, x_test_index"
      ],
      "metadata": {
        "id": "IhXbwylkCav4"
      },
      "execution_count": 4,
      "outputs": []
    },
    {
      "cell_type": "code",
      "source": [
        "###############################################################################\n",
        "class NBeatsBlock(t.nn.Module):\n",
        "    \"\"\"\n",
        "    N-BEATS block which takes a basis function as an argument.\n",
        "    \"\"\"\n",
        "    def __init__(self,\n",
        "                 input_size: int,\n",
        "                 theta_size: int,\n",
        "                 basis_function: t.nn.Module,\n",
        "                 layers: int,\n",
        "                 layer_size: int):\n",
        "        \"\"\"\n",
        "        N-BEATS block.\n",
        "\n",
        "        :param input_size: Insample size.\n",
        "        :param theta_size:  Number of parameters for the basis function.\n",
        "        :param basis_function: Basis function which takes the parameters and produces backcast and forecast.\n",
        "        :param layers: Number of layers.\n",
        "        :param layer_size: Layer size.\n",
        "        \"\"\"\n",
        "        super().__init__()\n",
        "        self.layers = t.nn.ModuleList([t.nn.Linear(in_features=input_size, out_features=layer_size)] +\n",
        "                                      [t.nn.Linear(in_features=layer_size, out_features=layer_size)\n",
        "                                       for _ in range(layers - 1)])\n",
        "        self.basis_parameters = t.nn.Linear(in_features=layer_size, out_features=theta_size)\n",
        "        self.basis_function = basis_function\n",
        "\n",
        "    def forward(self, x: t.Tensor) -> Tuple[t.Tensor, t.Tensor]:\n",
        "        block_input = x\n",
        "        for layer in self.layers:\n",
        "            block_input = t.relu(layer(block_input))\n",
        "        basis_parameters = self.basis_parameters(block_input)\n",
        "        return self.basis_function(basis_parameters)\n",
        "\n",
        "\n",
        "class NBeats(t.nn.Module):\n",
        "    \"\"\"\n",
        "    N-Beats Model.\n",
        "    \"\"\"\n",
        "    def __init__(self, blocks: t.nn.ModuleList):\n",
        "        super().__init__()\n",
        "        self.blocks = blocks\n",
        "\n",
        "    def forward(self, x: t.Tensor, input_mask: t.Tensor) -> t.Tensor:\n",
        "        residuals = x.flip(dims=(1,)) # left<->right\n",
        "        input_mask = input_mask.flip(dims=(1,)) # left<->right\n",
        "        forecast = x[:, -1:]\n",
        "        for i, block in enumerate(self.blocks):\n",
        "            backcast, block_forecast = block(residuals)\n",
        "            residuals = (residuals - backcast) * input_mask\n",
        "            forecast = forecast + block_forecast\n",
        "        return forecast\n",
        "    \n",
        "    \n",
        "class GenericBasis(t.nn.Module):\n",
        "    \"\"\"\n",
        "    Generic basis function.\n",
        "    \"\"\"\n",
        "    def __init__(self, backcast_size: int, forecast_size: int):\n",
        "        super().__init__()\n",
        "        self.backcast_size = backcast_size\n",
        "        self.forecast_size = forecast_size\n",
        "\n",
        "    def forward(self, theta: t.Tensor):\n",
        "        return theta[:, :self.backcast_size], theta[:, -self.forecast_size:]"
      ],
      "metadata": {
        "id": "dz5yvrxmF2hC"
      },
      "execution_count": 5,
      "outputs": []
    },
    {
      "cell_type": "code",
      "source": [
        "## ----------------------------------------------------------------------------\n",
        "## Prepare - Dataset\n",
        "dataset = \"FD001\"\n",
        "# sensors to work with: T30, T50, P30, PS30, phi\n",
        "fix_col = ['unit_nr', 'time_cycles']\n",
        "sensors = ['s_3', 's_4', 's_7', 's_11', 's_12']\n",
        "# windows length\n",
        "sequence_length = 30\n",
        "# smoothing intensity\n",
        "alpha = 0.1\n",
        "# max RUL\n",
        "threshold = 75\n",
        "\n",
        "x_train, y_train, x_val, y_val, x_test, y_test, x_test_index = get_data(dataset, sensors, sequence_length, alpha, threshold)\n",
        "\n",
        "x_train_re = x_train.reshape(x_train.shape[0], x_train.shape[1]*x_train.shape[2])\n",
        "y_train_re = y_train.reshape(y_train.shape[0], y_train.shape[1]*y_train.shape[2])\n",
        "x_val_re = x_val.reshape(x_val.shape[0], x_val.shape[1]*x_val.shape[2])\n",
        "y_val_re = y_val.reshape(y_val.shape[0], y_val.shape[1]*y_val.shape[2])\n",
        "x_test_re = x_test.reshape(x_test.shape[0], x_test.shape[1]*x_val.shape[2])\n",
        "y_test_re = y_test.reshape(y_test.shape[0], y_test.shape[1]*y_val.shape[2])"
      ],
      "metadata": {
        "id": "TV4IShWfF2eA"
      },
      "execution_count": 217,
      "outputs": []
    },
    {
      "cell_type": "code",
      "source": [
        "x_test_index_re = [(v - 30 +1) for v in x_test_index]\n",
        "x_test_index_re2 = []\n",
        "buf = 0\n",
        "for i, v in enumerate(x_test_index_re):\n",
        "    if i==0:\n",
        "        x_test_index_re2.append([0, x_test_index_re[0]])\n",
        "        buf =  x_test_index_re[0]\n",
        "        continue\n",
        "    buf += x_test_index_re[i]\n",
        "    x_test_index_re2.append([x_test_index_re2[i-1][1], buf])"
      ],
      "metadata": {
        "id": "tgQ8J2f2Yj4O"
      },
      "execution_count": 218,
      "outputs": []
    },
    {
      "cell_type": "code",
      "source": [
        "x_test_index_re2[:5]"
      ],
      "metadata": {
        "colab": {
          "base_uri": "https://localhost:8080/"
        },
        "id": "aozyeNGLbe4D",
        "outputId": "e8ada7ee-742e-46df-a6d8-c4aea0d6db34"
      },
      "execution_count": 219,
      "outputs": [
        {
          "output_type": "execute_result",
          "data": {
            "text/plain": [
              "[[0, 2], [2, 22], [22, 119], [119, 196], [196, 265]]"
            ]
          },
          "metadata": {},
          "execution_count": 219
        }
      ]
    },
    {
      "cell_type": "code",
      "source": [
        "## ----------------------------------------------------------------------------\n",
        "## Make model\n",
        "window_size = sequence_length\n",
        "input_dim = len(sensors)\n",
        "output_dim = 1 # RUL\n",
        "\n",
        "timeseries = x_train\n",
        "batch_size = 512\n",
        "insample_size = window_size * input_dim # 30 * 5\n",
        "outsample_size = window_size * output_dim # 30 * 1\n",
        "theta_size = insample_size + outsample_size\n",
        "stacks = 3\n",
        "layers = 4\n",
        "layer_size = 512\n",
        "\n",
        "\n",
        "model = NBeats(t.nn.ModuleList([NBeatsBlock(input_size=insample_size,\n",
        "                                            theta_size=theta_size,\n",
        "                                            basis_function=GenericBasis(backcast_size = insample_size,\n",
        "                                                                        forecast_size = outsample_size),\n",
        "                                            layers=layers,\n",
        "                                            layer_size=layer_size)\n",
        "                                for _ in range(stacks)]))\n",
        "\n",
        "\n",
        "default_device = t.device('cuda' if t.cuda.is_available() else 'cpu')\n",
        "model = model.to(default_device)\n",
        "\n",
        "learning_rate = 0.00001\n",
        "optimizer = t.optim.Adam(model.parameters(), lr=learning_rate)\n",
        "training_loss_fn = t.nn.MSELoss()\n",
        "iterations = 5000\n",
        "lr_decay_step = iterations // 3            \n",
        "if lr_decay_step == 0:\n",
        "    lr_decay_step = 1"
      ],
      "metadata": {
        "id": "kvRUGAOIF2bK"
      },
      "execution_count": 220,
      "outputs": []
    },
    {
      "cell_type": "code",
      "source": [
        "def to_tensor(array: np.ndarray) -> t.Tensor:\n",
        "        \"\"\"\n",
        "        Convert numpy array to tensor on default device.\n",
        "    \n",
        "        :param array: Numpy array to convert.\n",
        "        :return: PyTorch tensor on default device.\n",
        "        \"\"\"\n",
        "        return t.tensor(array, dtype=t.float32).to(default_device)\n",
        "\n",
        "his_train = []\n",
        "min_valid_loss = 99999\n",
        "cnt_valid_loss = 0\n",
        "for i in range(1, iterations + 1):\n",
        "    # train\n",
        "    model.train()\n",
        "    x = x_train_re\n",
        "    x_mask = np.ones(shape=x.shape, dtype=np.float32)\n",
        "    y = y_train_re\n",
        "    y_mask = np.ones(shape=y.shape, dtype=np.float32)    \n",
        "    \n",
        "    x, x_mask, y, y_mask = map(to_tensor, (x, x_mask, y, y_mask))\n",
        "\n",
        "    optimizer.zero_grad() # init gradients before back-propagation\n",
        "    forecast = model(x, x_mask)\n",
        "    training_loss = training_loss_fn(forecast, y)\n",
        "\n",
        "    if np.isnan(float(training_loss)):\n",
        "        break\n",
        "\n",
        "    training_loss.backward()\n",
        "    t.nn.utils.clip_grad_norm_(model.parameters(), 1.0)\n",
        "    optimizer.step()\n",
        "\n",
        "    for param_group in optimizer.param_groups:\n",
        "        param_group[\"lr\"] = learning_rate * 0.5 ** (i // lr_decay_step)\n",
        "\n",
        "    def check_directorys(f: str) -> None:\n",
        "        if not Path(f).is_dir():\n",
        "            print(f\"create directory: {f.split(sep='/')[-1]}\")\n",
        "            Path(f).mkdir(parents=True, exist_ok=True)\n",
        "            \n",
        "\n",
        "    if i % 100 == 1:\n",
        "        # valid\n",
        "        model.eval()\n",
        "        x = x_val_re\n",
        "        x_mask = np.ones(shape=x.shape, dtype=np.float32)\n",
        "        y = y_val_re\n",
        "        y_mask = np.ones(shape=y.shape, dtype=np.float32)   \n",
        "\n",
        "        x, x_mask, y, y_mask = map(to_tensor, (x, x_mask, y, y_mask))\n",
        "\n",
        "        forecast = model(x, x_mask)\n",
        "        valid_loss = training_loss_fn(forecast, y)\n",
        "\n",
        "        f = r'./steps/FD001/'\n",
        "        check_directorys(f)\n",
        "        f += f'weight_iter_{i}.pth'\n",
        "        print('Save Model:', f)\n",
        "        t.save(model, f)\n",
        "        print(f'iter:{i}/{iterations} \\t train_loss:{training_loss:.3f} \\t val_loss:{valid_loss:.3f}') \n",
        "        his_train.append([i, training_loss, valid_loss])\n",
        "\n",
        "        if valid_loss < min_valid_loss:\n",
        "            min_valid_loss = valid_loss\n",
        "            cnt_valid_loss = 0\n",
        "        else:\n",
        "            cnt_valid_loss += 1\n",
        "\n",
        "        if cnt_valid_loss >= 5:\n",
        "            print('Early stop..!!')\n",
        "            break"
      ],
      "metadata": {
        "colab": {
          "base_uri": "https://localhost:8080/"
        },
        "id": "zcREUUSHF2YA",
        "outputId": "ec7183b2-be70-475e-cd96-803d4c8ff49b"
      },
      "execution_count": 221,
      "outputs": [
        {
          "output_type": "stream",
          "name": "stdout",
          "text": [
            "Save Model: ./steps/FD001/weight_iter_1.pth\n",
            "iter:1/5000 \t train_loss:4453.487 \t val_loss:4431.358\n",
            "Save Model: ./steps/FD001/weight_iter_101.pth\n",
            "iter:101/5000 \t train_loss:4419.619 \t val_loss:4395.796\n",
            "Save Model: ./steps/FD001/weight_iter_201.pth\n",
            "iter:201/5000 \t train_loss:4084.137 \t val_loss:4043.959\n",
            "Save Model: ./steps/FD001/weight_iter_301.pth\n",
            "iter:301/5000 \t train_loss:1658.527 \t val_loss:1704.339\n",
            "Save Model: ./steps/FD001/weight_iter_401.pth\n",
            "iter:401/5000 \t train_loss:1256.511 \t val_loss:1309.655\n",
            "Save Model: ./steps/FD001/weight_iter_501.pth\n",
            "iter:501/5000 \t train_loss:485.585 \t val_loss:487.173\n",
            "Save Model: ./steps/FD001/weight_iter_601.pth\n",
            "iter:601/5000 \t train_loss:87.224 \t val_loss:61.845\n",
            "Save Model: ./steps/FD001/weight_iter_701.pth\n",
            "iter:701/5000 \t train_loss:41.069 \t val_loss:38.288\n",
            "Save Model: ./steps/FD001/weight_iter_801.pth\n",
            "iter:801/5000 \t train_loss:35.699 \t val_loss:35.916\n",
            "Save Model: ./steps/FD001/weight_iter_901.pth\n",
            "iter:901/5000 \t train_loss:33.446 \t val_loss:34.699\n",
            "Save Model: ./steps/FD001/weight_iter_1001.pth\n",
            "iter:1001/5000 \t train_loss:31.988 \t val_loss:33.837\n",
            "Save Model: ./steps/FD001/weight_iter_1101.pth\n",
            "iter:1101/5000 \t train_loss:30.882 \t val_loss:33.412\n",
            "Save Model: ./steps/FD001/weight_iter_1201.pth\n",
            "iter:1201/5000 \t train_loss:29.782 \t val_loss:32.571\n",
            "Save Model: ./steps/FD001/weight_iter_1301.pth\n",
            "iter:1301/5000 \t train_loss:28.461 \t val_loss:31.450\n",
            "Save Model: ./steps/FD001/weight_iter_1401.pth\n",
            "iter:1401/5000 \t train_loss:27.229 \t val_loss:30.389\n",
            "Save Model: ./steps/FD001/weight_iter_1501.pth\n",
            "iter:1501/5000 \t train_loss:25.815 \t val_loss:29.022\n",
            "Save Model: ./steps/FD001/weight_iter_1601.pth\n",
            "iter:1601/5000 \t train_loss:24.092 \t val_loss:27.158\n",
            "Save Model: ./steps/FD001/weight_iter_1701.pth\n",
            "iter:1701/5000 \t train_loss:21.946 \t val_loss:25.315\n",
            "Save Model: ./steps/FD001/weight_iter_1801.pth\n",
            "iter:1801/5000 \t train_loss:19.713 \t val_loss:23.041\n",
            "Save Model: ./steps/FD001/weight_iter_1901.pth\n",
            "iter:1901/5000 \t train_loss:18.502 \t val_loss:22.108\n",
            "Save Model: ./steps/FD001/weight_iter_2001.pth\n",
            "iter:2001/5000 \t train_loss:17.694 \t val_loss:21.580\n",
            "Save Model: ./steps/FD001/weight_iter_2101.pth\n",
            "iter:2101/5000 \t train_loss:16.954 \t val_loss:21.121\n",
            "Save Model: ./steps/FD001/weight_iter_2201.pth\n",
            "iter:2201/5000 \t train_loss:16.142 \t val_loss:20.626\n",
            "Save Model: ./steps/FD001/weight_iter_2301.pth\n",
            "iter:2301/5000 \t train_loss:15.143 \t val_loss:19.971\n",
            "Save Model: ./steps/FD001/weight_iter_2401.pth\n",
            "iter:2401/5000 \t train_loss:13.877 \t val_loss:19.132\n",
            "Save Model: ./steps/FD001/weight_iter_2501.pth\n",
            "iter:2501/5000 \t train_loss:12.794 \t val_loss:18.493\n",
            "Save Model: ./steps/FD001/weight_iter_2601.pth\n",
            "iter:2601/5000 \t train_loss:12.072 \t val_loss:18.107\n",
            "Save Model: ./steps/FD001/weight_iter_2701.pth\n",
            "iter:2701/5000 \t train_loss:11.478 \t val_loss:17.825\n",
            "Save Model: ./steps/FD001/weight_iter_2801.pth\n",
            "iter:2801/5000 \t train_loss:11.016 \t val_loss:17.652\n",
            "Save Model: ./steps/FD001/weight_iter_2901.pth\n",
            "iter:2901/5000 \t train_loss:10.630 \t val_loss:17.562\n",
            "Save Model: ./steps/FD001/weight_iter_3001.pth\n",
            "iter:3001/5000 \t train_loss:10.318 \t val_loss:17.527\n",
            "Save Model: ./steps/FD001/weight_iter_3101.pth\n",
            "iter:3101/5000 \t train_loss:10.053 \t val_loss:17.516\n",
            "Save Model: ./steps/FD001/weight_iter_3201.pth\n",
            "iter:3201/5000 \t train_loss:9.798 \t val_loss:17.526\n",
            "Save Model: ./steps/FD001/weight_iter_3301.pth\n",
            "iter:3301/5000 \t train_loss:9.556 \t val_loss:17.564\n",
            "Save Model: ./steps/FD001/weight_iter_3401.pth\n",
            "iter:3401/5000 \t train_loss:9.389 \t val_loss:17.560\n",
            "Save Model: ./steps/FD001/weight_iter_3501.pth\n",
            "iter:3501/5000 \t train_loss:9.196 \t val_loss:17.619\n",
            "Save Model: ./steps/FD001/weight_iter_3601.pth\n",
            "iter:3601/5000 \t train_loss:9.011 \t val_loss:17.664\n",
            "Early stop..!!\n"
          ]
        }
      ]
    },
    {
      "cell_type": "code",
      "source": [
        "# Evaluate\n",
        "x_mask = np.ones(shape=x_test_re.shape, dtype=np.float32)\n",
        "x, x_mask = map(to_tensor, (x_test_re, x_mask))\n",
        "\n",
        "model.eval()\n",
        "forecasts = []\n",
        "with t.no_grad():\n",
        "    forecasts.extend(model(x, x_mask).cpu().detach().numpy())   "
      ],
      "metadata": {
        "id": "nNBdH2jhF2NU"
      },
      "execution_count": 222,
      "outputs": []
    },
    {
      "cell_type": "code",
      "source": [
        "len(forecasts)"
      ],
      "metadata": {
        "colab": {
          "base_uri": "https://localhost:8080/"
        },
        "id": "8G4avrXhRKh0",
        "outputId": "3f46c1e9-327b-4938-bba5-3a58adf5d843"
      },
      "execution_count": 223,
      "outputs": [
        {
          "output_type": "execute_result",
          "data": {
            "text/plain": [
              "10196"
            ]
          },
          "metadata": {},
          "execution_count": 223
        }
      ]
    },
    {
      "cell_type": "code",
      "source": [
        "unit_no = 34\n",
        "t_len = x_test[unit_no-1] - 30 + 1 # sample length\n",
        "s_idx = x_test_index_re2[unit_no-1][0]\n",
        "e_idx = x_test_index_re2[unit_no-1][1]\n",
        "\n",
        "df = pd.DataFrame([v[-1] for v in forecasts[s_idx:e_idx]], columns=['y_hat'])\n",
        "\n",
        "tt = np.arange(y_test[:][:][unit_no-1][29], y_test[:][:][unit_no-1][29] + len(df.y_hat))\n",
        "tt = np.flip(tt)\n",
        "test = lambda v:threshold if v>threshold else v\n",
        "df['y'] = pd.DataFrame([test(v) for v in tt], columns=['y']) "
      ],
      "metadata": {
        "id": "TPlFoRyOLVOo"
      },
      "execution_count": 224,
      "outputs": []
    },
    {
      "cell_type": "code",
      "source": [
        "df.tail()"
      ],
      "metadata": {
        "colab": {
          "base_uri": "https://localhost:8080/",
          "height": 206
        },
        "id": "317Ghz4UfGkW",
        "outputId": "85a23ee9-4037-451d-f38c-9e715f9a7600"
      },
      "execution_count": 225,
      "outputs": [
        {
          "output_type": "execute_result",
          "data": {
            "text/plain": [
              "         y_hat     y\n",
              "169  12.301208  11.0\n",
              "170  10.383507  10.0\n",
              "171   9.106617   9.0\n",
              "172   7.256779   8.0\n",
              "173   5.584106   7.0"
            ],
            "text/html": [
              "\n",
              "  <div id=\"df-a3e7d5d8-f71d-40b9-92e8-c66e0abf81ed\">\n",
              "    <div class=\"colab-df-container\">\n",
              "      <div>\n",
              "<style scoped>\n",
              "    .dataframe tbody tr th:only-of-type {\n",
              "        vertical-align: middle;\n",
              "    }\n",
              "\n",
              "    .dataframe tbody tr th {\n",
              "        vertical-align: top;\n",
              "    }\n",
              "\n",
              "    .dataframe thead th {\n",
              "        text-align: right;\n",
              "    }\n",
              "</style>\n",
              "<table border=\"1\" class=\"dataframe\">\n",
              "  <thead>\n",
              "    <tr style=\"text-align: right;\">\n",
              "      <th></th>\n",
              "      <th>y_hat</th>\n",
              "      <th>y</th>\n",
              "    </tr>\n",
              "  </thead>\n",
              "  <tbody>\n",
              "    <tr>\n",
              "      <th>169</th>\n",
              "      <td>12.301208</td>\n",
              "      <td>11.0</td>\n",
              "    </tr>\n",
              "    <tr>\n",
              "      <th>170</th>\n",
              "      <td>10.383507</td>\n",
              "      <td>10.0</td>\n",
              "    </tr>\n",
              "    <tr>\n",
              "      <th>171</th>\n",
              "      <td>9.106617</td>\n",
              "      <td>9.0</td>\n",
              "    </tr>\n",
              "    <tr>\n",
              "      <th>172</th>\n",
              "      <td>7.256779</td>\n",
              "      <td>8.0</td>\n",
              "    </tr>\n",
              "    <tr>\n",
              "      <th>173</th>\n",
              "      <td>5.584106</td>\n",
              "      <td>7.0</td>\n",
              "    </tr>\n",
              "  </tbody>\n",
              "</table>\n",
              "</div>\n",
              "      <button class=\"colab-df-convert\" onclick=\"convertToInteractive('df-a3e7d5d8-f71d-40b9-92e8-c66e0abf81ed')\"\n",
              "              title=\"Convert this dataframe to an interactive table.\"\n",
              "              style=\"display:none;\">\n",
              "        \n",
              "  <svg xmlns=\"http://www.w3.org/2000/svg\" height=\"24px\"viewBox=\"0 0 24 24\"\n",
              "       width=\"24px\">\n",
              "    <path d=\"M0 0h24v24H0V0z\" fill=\"none\"/>\n",
              "    <path d=\"M18.56 5.44l.94 2.06.94-2.06 2.06-.94-2.06-.94-.94-2.06-.94 2.06-2.06.94zm-11 1L8.5 8.5l.94-2.06 2.06-.94-2.06-.94L8.5 2.5l-.94 2.06-2.06.94zm10 10l.94 2.06.94-2.06 2.06-.94-2.06-.94-.94-2.06-.94 2.06-2.06.94z\"/><path d=\"M17.41 7.96l-1.37-1.37c-.4-.4-.92-.59-1.43-.59-.52 0-1.04.2-1.43.59L10.3 9.45l-7.72 7.72c-.78.78-.78 2.05 0 2.83L4 21.41c.39.39.9.59 1.41.59.51 0 1.02-.2 1.41-.59l7.78-7.78 2.81-2.81c.8-.78.8-2.07 0-2.86zM5.41 20L4 18.59l7.72-7.72 1.47 1.35L5.41 20z\"/>\n",
              "  </svg>\n",
              "      </button>\n",
              "      \n",
              "  <style>\n",
              "    .colab-df-container {\n",
              "      display:flex;\n",
              "      flex-wrap:wrap;\n",
              "      gap: 12px;\n",
              "    }\n",
              "\n",
              "    .colab-df-convert {\n",
              "      background-color: #E8F0FE;\n",
              "      border: none;\n",
              "      border-radius: 50%;\n",
              "      cursor: pointer;\n",
              "      display: none;\n",
              "      fill: #1967D2;\n",
              "      height: 32px;\n",
              "      padding: 0 0 0 0;\n",
              "      width: 32px;\n",
              "    }\n",
              "\n",
              "    .colab-df-convert:hover {\n",
              "      background-color: #E2EBFA;\n",
              "      box-shadow: 0px 1px 2px rgba(60, 64, 67, 0.3), 0px 1px 3px 1px rgba(60, 64, 67, 0.15);\n",
              "      fill: #174EA6;\n",
              "    }\n",
              "\n",
              "    [theme=dark] .colab-df-convert {\n",
              "      background-color: #3B4455;\n",
              "      fill: #D2E3FC;\n",
              "    }\n",
              "\n",
              "    [theme=dark] .colab-df-convert:hover {\n",
              "      background-color: #434B5C;\n",
              "      box-shadow: 0px 1px 3px 1px rgba(0, 0, 0, 0.15);\n",
              "      filter: drop-shadow(0px 1px 2px rgba(0, 0, 0, 0.3));\n",
              "      fill: #FFFFFF;\n",
              "    }\n",
              "  </style>\n",
              "\n",
              "      <script>\n",
              "        const buttonEl =\n",
              "          document.querySelector('#df-a3e7d5d8-f71d-40b9-92e8-c66e0abf81ed button.colab-df-convert');\n",
              "        buttonEl.style.display =\n",
              "          google.colab.kernel.accessAllowed ? 'block' : 'none';\n",
              "\n",
              "        async function convertToInteractive(key) {\n",
              "          const element = document.querySelector('#df-a3e7d5d8-f71d-40b9-92e8-c66e0abf81ed');\n",
              "          const dataTable =\n",
              "            await google.colab.kernel.invokeFunction('convertToInteractive',\n",
              "                                                     [key], {});\n",
              "          if (!dataTable) return;\n",
              "\n",
              "          const docLinkHtml = 'Like what you see? Visit the ' +\n",
              "            '<a target=\"_blank\" href=https://colab.research.google.com/notebooks/data_table.ipynb>data table notebook</a>'\n",
              "            + ' to learn more about interactive tables.';\n",
              "          element.innerHTML = '';\n",
              "          dataTable['output_type'] = 'display_data';\n",
              "          await google.colab.output.renderOutput(dataTable, element);\n",
              "          const docLink = document.createElement('div');\n",
              "          docLink.innerHTML = docLinkHtml;\n",
              "          element.appendChild(docLink);\n",
              "        }\n",
              "      </script>\n",
              "    </div>\n",
              "  </div>\n",
              "  "
            ]
          },
          "metadata": {},
          "execution_count": 225
        }
      ]
    },
    {
      "cell_type": "code",
      "source": [
        "fig, ax1 = plt.subplots(figsize=(5, 7))\n",
        "\n",
        "ax1.set_xlabel('Time cycles(#)')\n",
        "ax1.set_ylabel('RUL')\n",
        "ax1.set_ylim([0, threshold+5])\n",
        "ax1.plot(df['y_hat'], color='red', label='y_hat')\n",
        "ax1.plot(df['y'], color='blue', label='y')\n",
        "ax1.legend()\n",
        "\n",
        "fig.tight_layout()\n",
        "plt.title('unit #' + str(unit_no))\n",
        "plt.show()"
      ],
      "metadata": {
        "colab": {
          "base_uri": "https://localhost:8080/",
          "height": 526
        },
        "id": "LexcM8exLsEA",
        "outputId": "d06cd8f3-7882-4b08-a2a9-78aa3d91ffc8"
      },
      "execution_count": 226,
      "outputs": [
        {
          "output_type": "display_data",
          "data": {
            "text/plain": [
              "<Figure size 360x504 with 1 Axes>"
            ],
            "image/png": "[encoded data removed]"
          },
          "metadata": {
            "needs_background": "light"
          }
        }
      ]
    },
    {
      "cell_type": "code",
      "source": [
        "lst_his=[]\n",
        "for h in his_train:\n",
        "    lst_his.append([h[0], h[1].item(), h[2].item()])\n",
        "\n",
        "df = pd.DataFrame(lst_his, columns=['iter','train','valid'])\n",
        "df.head()"
      ],
      "metadata": {
        "colab": {
          "base_uri": "https://localhost:8080/",
          "height": 206
        },
        "id": "rMrtHf2Mof3F",
        "outputId": "d51a8fbb-bdd0-4d34-b31a-1ab72d0ecf64"
      },
      "execution_count": 227,
      "outputs": [
        {
          "output_type": "execute_result",
          "data": {
            "text/plain": [
              "   iter        train        valid\n",
              "0     1  4453.487305  4431.358398\n",
              "1   101  4419.618652  4395.795898\n",
              "2   201  4084.136963  4043.958984\n",
              "3   301  1658.527222  1704.338989\n",
              "4   401  1256.511475  1309.655029"
            ],
            "text/html": [
              "\n",
              "  <div id=\"df-314589df-b973-4dbf-bee5-b2a262fa4f2b\">\n",
              "    <div class=\"colab-df-container\">\n",
              "      <div>\n",
              "<style scoped>\n",
              "    .dataframe tbody tr th:only-of-type {\n",
              "        vertical-align: middle;\n",
              "    }\n",
              "\n",
              "    .dataframe tbody tr th {\n",
              "        vertical-align: top;\n",
              "    }\n",
              "\n",
              "    .dataframe thead th {\n",
              "        text-align: right;\n",
              "    }\n",
              "</style>\n",
              "<table border=\"1\" class=\"dataframe\">\n",
              "  <thead>\n",
              "    <tr style=\"text-align: right;\">\n",
              "      <th></th>\n",
              "      <th>iter</th>\n",
              "      <th>train</th>\n",
              "      <th>valid</th>\n",
              "    </tr>\n",
              "  </thead>\n",
              "  <tbody>\n",
              "    <tr>\n",
              "      <th>0</th>\n",
              "      <td>1</td>\n",
              "      <td>4453.487305</td>\n",
              "      <td>4431.358398</td>\n",
              "    </tr>\n",
              "    <tr>\n",
              "      <th>1</th>\n",
              "      <td>101</td>\n",
              "      <td>4419.618652</td>\n",
              "      <td>4395.795898</td>\n",
              "    </tr>\n",
              "    <tr>\n",
              "      <th>2</th>\n",
              "      <td>201</td>\n",
              "      <td>4084.136963</td>\n",
              "      <td>4043.958984</td>\n",
              "    </tr>\n",
              "    <tr>\n",
              "      <th>3</th>\n",
              "      <td>301</td>\n",
              "      <td>1658.527222</td>\n",
              "      <td>1704.338989</td>\n",
              "    </tr>\n",
              "    <tr>\n",
              "      <th>4</th>\n",
              "      <td>401</td>\n",
              "      <td>1256.511475</td>\n",
              "      <td>1309.655029</td>\n",
              "    </tr>\n",
              "  </tbody>\n",
              "</table>\n",
              "</div>\n",
              "      <button class=\"colab-df-convert\" onclick=\"convertToInteractive('df-314589df-b973-4dbf-bee5-b2a262fa4f2b')\"\n",
              "              title=\"Convert this dataframe to an interactive table.\"\n",
              "              style=\"display:none;\">\n",
              "        \n",
              "  <svg xmlns=\"http://www.w3.org/2000/svg\" height=\"24px\"viewBox=\"0 0 24 24\"\n",
              "       width=\"24px\">\n",
              "    <path d=\"M0 0h24v24H0V0z\" fill=\"none\"/>\n",
              "    <path d=\"M18.56 5.44l.94 2.06.94-2.06 2.06-.94-2.06-.94-.94-2.06-.94 2.06-2.06.94zm-11 1L8.5 8.5l.94-2.06 2.06-.94-2.06-.94L8.5 2.5l-.94 2.06-2.06.94zm10 10l.94 2.06.94-2.06 2.06-.94-2.06-.94-.94-2.06-.94 2.06-2.06.94z\"/><path d=\"M17.41 7.96l-1.37-1.37c-.4-.4-.92-.59-1.43-.59-.52 0-1.04.2-1.43.59L10.3 9.45l-7.72 7.72c-.78.78-.78 2.05 0 2.83L4 21.41c.39.39.9.59 1.41.59.51 0 1.02-.2 1.41-.59l7.78-7.78 2.81-2.81c.8-.78.8-2.07 0-2.86zM5.41 20L4 18.59l7.72-7.72 1.47 1.35L5.41 20z\"/>\n",
              "  </svg>\n",
              "      </button>\n",
              "      \n",
              "  <style>\n",
              "    .colab-df-container {\n",
              "      display:flex;\n",
              "      flex-wrap:wrap;\n",
              "      gap: 12px;\n",
              "    }\n",
              "\n",
              "    .colab-df-convert {\n",
              "      background-color: #E8F0FE;\n",
              "      border: none;\n",
              "      border-radius: 50%;\n",
              "      cursor: pointer;\n",
              "      display: none;\n",
              "      fill: #1967D2;\n",
              "      height: 32px;\n",
              "      padding: 0 0 0 0;\n",
              "      width: 32px;\n",
              "    }\n",
              "\n",
              "    .colab-df-convert:hover {\n",
              "      background-color: #E2EBFA;\n",
              "      box-shadow: 0px 1px 2px rgba(60, 64, 67, 0.3), 0px 1px 3px 1px rgba(60, 64, 67, 0.15);\n",
              "      fill: #174EA6;\n",
              "    }\n",
              "\n",
              "    [theme=dark] .colab-df-convert {\n",
              "      background-color: #3B4455;\n",
              "      fill: #D2E3FC;\n",
              "    }\n",
              "\n",
              "    [theme=dark] .colab-df-convert:hover {\n",
              "      background-color: #434B5C;\n",
              "      box-shadow: 0px 1px 3px 1px rgba(0, 0, 0, 0.15);\n",
              "      filter: drop-shadow(0px 1px 2px rgba(0, 0, 0, 0.3));\n",
              "      fill: #FFFFFF;\n",
              "    }\n",
              "  </style>\n",
              "\n",
              "      <script>\n",
              "        const buttonEl =\n",
              "          document.querySelector('#df-314589df-b973-4dbf-bee5-b2a262fa4f2b button.colab-df-convert');\n",
              "        buttonEl.style.display =\n",
              "          google.colab.kernel.accessAllowed ? 'block' : 'none';\n",
              "\n",
              "        async function convertToInteractive(key) {\n",
              "          const element = document.querySelector('#df-314589df-b973-4dbf-bee5-b2a262fa4f2b');\n",
              "          const dataTable =\n",
              "            await google.colab.kernel.invokeFunction('convertToInteractive',\n",
              "                                                     [key], {});\n",
              "          if (!dataTable) return;\n",
              "\n",
              "          const docLinkHtml = 'Like what you see? Visit the ' +\n",
              "            '<a target=\"_blank\" href=https://colab.research.google.com/notebooks/data_table.ipynb>data table notebook</a>'\n",
              "            + ' to learn more about interactive tables.';\n",
              "          element.innerHTML = '';\n",
              "          dataTable['output_type'] = 'display_data';\n",
              "          await google.colab.output.renderOutput(dataTable, element);\n",
              "          const docLink = document.createElement('div');\n",
              "          docLink.innerHTML = docLinkHtml;\n",
              "          element.appendChild(docLink);\n",
              "        }\n",
              "      </script>\n",
              "    </div>\n",
              "  </div>\n",
              "  "
            ]
          },
          "metadata": {},
          "execution_count": 227
        }
      ]
    },
    {
      "cell_type": "code",
      "source": [
        "fig, ax1 = plt.subplots(figsize=(5, 7))\n",
        "\n",
        "ax1.set_xlabel('Iteration(#)')\n",
        "ax1.set_ylabel('MSE')\n",
        "#ax1.set_ylim([0, 500])\n",
        "ax1.plot(df.iter, df.train, color='red', label='train')\n",
        "ax1.plot(df.iter, df.valid, color='blue', label='valid')\n",
        "ax1.legend()\n",
        "\n",
        "fig.tight_layout()\n",
        "plt.title('FD001 Train')\n",
        "plt.show()"
      ],
      "metadata": {
        "colab": {
          "base_uri": "https://localhost:8080/",
          "height": 529
        },
        "id": "fuJMUwbUD-C1",
        "outputId": "a4a12987-ad1e-4371-95ff-b1290d546419"
      },
      "execution_count": 228,
      "outputs": [
        {
          "output_type": "display_data",
          "data": {
            "text/plain": [
              "<Figure size 360x504 with 1 Axes>"
            ],
            "image/png": "[encoded data removed]"
          },
          "metadata": {
            "needs_background": "light"
          }
        }
      ]
    },
    {
      "cell_type": "code",
      "source": [
        "fig, ax1 = plt.subplots(figsize=(5, 7))\n",
        "\n",
        "ax1.set_xlabel('Iteration(#)')\n",
        "ax1.set_ylabel('MSE')\n",
        "ax1.set_ylim([0, 500])\n",
        "ax1.plot(df.iter, df.train, color='red', label='train')\n",
        "ax1.plot(df.iter, df.valid, color='blue', label='valid')\n",
        "ax1.legend()\n",
        "\n",
        "fig.tight_layout()\n",
        "plt.title('FD001 Train')\n",
        "plt.show()"
      ],
      "metadata": {
        "colab": {
          "base_uri": "https://localhost:8080/",
          "height": 526
        },
        "id": "lrzi9sLLNUiT",
        "outputId": "c3fcfb3d-fab5-4f66-fa48-f07161f21121"
      },
      "execution_count": 229,
      "outputs": [
        {
          "output_type": "display_data",
          "data": {
            "text/plain": [
              "<Figure size 360x504 with 1 Axes>"
            ],
            "image/png": "[encoded data removed]"
          },
          "metadata": {
            "needs_background": "light"
          }
        }
      ]
    },
    {
      "cell_type": "code",
      "source": [
        "from sklearn.metrics import mean_squared_error, r2_score\n",
        "\n",
        "def evaluate(y_true, y_hat, label='test'):\n",
        "    mse = mean_squared_error(y_true, y_hat)\n",
        "    rmse = np.sqrt(mse)\n",
        "    variance = r2_score(y_true, y_hat)\n",
        "    print('{} set RMSE:{:.3f}, R2:{:.3f}'.format(label, rmse, variance))\n",
        "\n",
        "    return rmse, variance"
      ],
      "metadata": {
        "id": "0NM64PwApfdK"
      },
      "execution_count": 230,
      "outputs": []
    },
    {
      "cell_type": "code",
      "source": [
        "lst_y_true=[]\n",
        "lst_y_hat=[]\n",
        "for u in range(1, 101):   \n",
        "    idx = x_test_index_re2[u-1][1]-1\n",
        "    test = lambda v:threshold if v>threshold else v\n",
        "\n",
        "    lst_y_true.append(int(test(y_test[:][:][u-1][29])))\n",
        "    lst_y_hat.append(forecasts[idx][29])"
      ],
      "metadata": {
        "id": "fHjg5W2Vzwox"
      },
      "execution_count": 231,
      "outputs": []
    },
    {
      "cell_type": "code",
      "source": [
        "def score(y_true, y_hat):\n",
        "  res = 0\n",
        "  for true, hat in zip(y_true, y_hat):\n",
        "    subs = hat - true\n",
        "    #print(subs)\n",
        "    if subs < 0:\n",
        "      res = res + np.exp(-subs/13)-1\n",
        "    else:\n",
        "      res = res + np.exp(subs/10)-1\n",
        "  print(\"score: {:.3f}\".format(res))\n",
        "\n",
        "  return res"
      ],
      "metadata": {
        "id": "Pxy5PtQ8419S"
      },
      "execution_count": 232,
      "outputs": []
    },
    {
      "cell_type": "code",
      "source": [
        "rmse, var = evaluate(lst_y_true, lst_y_hat)\n",
        "res = score(lst_y_true, lst_y_hat)"
      ],
      "metadata": {
        "id": "3j3IVu1WChhe",
        "colab": {
          "base_uri": "https://localhost:8080/"
        },
        "outputId": "8fdb21d0-cb93-4e47-9c8e-e9a50e62f5bc"
      },
      "execution_count": 233,
      "outputs": [
        {
          "output_type": "stream",
          "name": "stdout",
          "text": [
            "test set RMSE:6.523, R2:0.930\n",
            "score: 68.596\n"
          ]
        }
      ]
    },
    {
      "cell_type": "code",
      "source": [
        "textstr = '\\n'.join((    \n",
        "    r'RMSE: %.2f' % (rmse, ),\n",
        "    r'Score: %.2f' % (res, )))\n",
        "\n",
        "# these are matplotlib.patch.Patch properties\n",
        "props = dict(boxstyle='round', facecolor='wheat', alpha=0.5)"
      ],
      "metadata": {
        "id": "aEdCe-BBzLPf"
      },
      "execution_count": 234,
      "outputs": []
    },
    {
      "cell_type": "code",
      "source": [
        "df1 = pd.DataFrame(lst_y_true, columns=['y'])\n",
        "df1['y_hat'] = pd.DataFrame(lst_y_hat)\n",
        "df1['y_real'] = pd.DataFrame([int(x[-1]) for x in y_test])\n",
        "df1 = df1.sort_values(by=['y_real']).reset_index()\n",
        "df1.head()"
      ],
      "metadata": {
        "colab": {
          "base_uri": "https://localhost:8080/",
          "height": 206
        },
        "id": "LIPi1UoskiC2",
        "outputId": "c0f26e19-a346-4565-d868-064b4b1f2f31"
      },
      "execution_count": 235,
      "outputs": [
        {
          "output_type": "execute_result",
          "data": {
            "text/plain": [
              "   index  y     y_hat  y_real\n",
              "0     33  7  5.584106       7\n",
              "1     67  8  6.520142       8\n",
              "2     30  8  6.040946       8\n",
              "3     80  8  6.235925       8\n",
              "4     81  9  8.986951       9"
            ],
            "text/html": [
              "\n",
              "  <div id=\"df-5d58aaba-ac53-474d-8e1d-98685da7c1fc\">\n",
              "    <div class=\"colab-df-container\">\n",
              "      <div>\n",
              "<style scoped>\n",
              "    .dataframe tbody tr th:only-of-type {\n",
              "        vertical-align: middle;\n",
              "    }\n",
              "\n",
              "    .dataframe tbody tr th {\n",
              "        vertical-align: top;\n",
              "    }\n",
              "\n",
              "    .dataframe thead th {\n",
              "        text-align: right;\n",
              "    }\n",
              "</style>\n",
              "<table border=\"1\" class=\"dataframe\">\n",
              "  <thead>\n",
              "    <tr style=\"text-align: right;\">\n",
              "      <th></th>\n",
              "      <th>index</th>\n",
              "      <th>y</th>\n",
              "      <th>y_hat</th>\n",
              "      <th>y_real</th>\n",
              "    </tr>\n",
              "  </thead>\n",
              "  <tbody>\n",
              "    <tr>\n",
              "      <th>0</th>\n",
              "      <td>33</td>\n",
              "      <td>7</td>\n",
              "      <td>5.584106</td>\n",
              "      <td>7</td>\n",
              "    </tr>\n",
              "    <tr>\n",
              "      <th>1</th>\n",
              "      <td>67</td>\n",
              "      <td>8</td>\n",
              "      <td>6.520142</td>\n",
              "      <td>8</td>\n",
              "    </tr>\n",
              "    <tr>\n",
              "      <th>2</th>\n",
              "      <td>30</td>\n",
              "      <td>8</td>\n",
              "      <td>6.040946</td>\n",
              "      <td>8</td>\n",
              "    </tr>\n",
              "    <tr>\n",
              "      <th>3</th>\n",
              "      <td>80</td>\n",
              "      <td>8</td>\n",
              "      <td>6.235925</td>\n",
              "      <td>8</td>\n",
              "    </tr>\n",
              "    <tr>\n",
              "      <th>4</th>\n",
              "      <td>81</td>\n",
              "      <td>9</td>\n",
              "      <td>8.986951</td>\n",
              "      <td>9</td>\n",
              "    </tr>\n",
              "  </tbody>\n",
              "</table>\n",
              "</div>\n",
              "      <button class=\"colab-df-convert\" onclick=\"convertToInteractive('df-5d58aaba-ac53-474d-8e1d-98685da7c1fc')\"\n",
              "              title=\"Convert this dataframe to an interactive table.\"\n",
              "              style=\"display:none;\">\n",
              "        \n",
              "  <svg xmlns=\"http://www.w3.org/2000/svg\" height=\"24px\"viewBox=\"0 0 24 24\"\n",
              "       width=\"24px\">\n",
              "    <path d=\"M0 0h24v24H0V0z\" fill=\"none\"/>\n",
              "    <path d=\"M18.56 5.44l.94 2.06.94-2.06 2.06-.94-2.06-.94-.94-2.06-.94 2.06-2.06.94zm-11 1L8.5 8.5l.94-2.06 2.06-.94-2.06-.94L8.5 2.5l-.94 2.06-2.06.94zm10 10l.94 2.06.94-2.06 2.06-.94-2.06-.94-.94-2.06-.94 2.06-2.06.94z\"/><path d=\"M17.41 7.96l-1.37-1.37c-.4-.4-.92-.59-1.43-.59-.52 0-1.04.2-1.43.59L10.3 9.45l-7.72 7.72c-.78.78-.78 2.05 0 2.83L4 21.41c.39.39.9.59 1.41.59.51 0 1.02-.2 1.41-.59l7.78-7.78 2.81-2.81c.8-.78.8-2.07 0-2.86zM5.41 20L4 18.59l7.72-7.72 1.47 1.35L5.41 20z\"/>\n",
              "  </svg>\n",
              "      </button>\n",
              "      \n",
              "  <style>\n",
              "    .colab-df-container {\n",
              "      display:flex;\n",
              "      flex-wrap:wrap;\n",
              "      gap: 12px;\n",
              "    }\n",
              "\n",
              "    .colab-df-convert {\n",
              "      background-color: #E8F0FE;\n",
              "      border: none;\n",
              "      border-radius: 50%;\n",
              "      cursor: pointer;\n",
              "      display: none;\n",
              "      fill: #1967D2;\n",
              "      height: 32px;\n",
              "      padding: 0 0 0 0;\n",
              "      width: 32px;\n",
              "    }\n",
              "\n",
              "    .colab-df-convert:hover {\n",
              "      background-color: #E2EBFA;\n",
              "      box-shadow: 0px 1px 2px rgba(60, 64, 67, 0.3), 0px 1px 3px 1px rgba(60, 64, 67, 0.15);\n",
              "      fill: #174EA6;\n",
              "    }\n",
              "\n",
              "    [theme=dark] .colab-df-convert {\n",
              "      background-color: #3B4455;\n",
              "      fill: #D2E3FC;\n",
              "    }\n",
              "\n",
              "    [theme=dark] .colab-df-convert:hover {\n",
              "      background-color: #434B5C;\n",
              "      box-shadow: 0px 1px 3px 1px rgba(0, 0, 0, 0.15);\n",
              "      filter: drop-shadow(0px 1px 2px rgba(0, 0, 0, 0.3));\n",
              "      fill: #FFFFFF;\n",
              "    }\n",
              "  </style>\n",
              "\n",
              "      <script>\n",
              "        const buttonEl =\n",
              "          document.querySelector('#df-5d58aaba-ac53-474d-8e1d-98685da7c1fc button.colab-df-convert');\n",
              "        buttonEl.style.display =\n",
              "          google.colab.kernel.accessAllowed ? 'block' : 'none';\n",
              "\n",
              "        async function convertToInteractive(key) {\n",
              "          const element = document.querySelector('#df-5d58aaba-ac53-474d-8e1d-98685da7c1fc');\n",
              "          const dataTable =\n",
              "            await google.colab.kernel.invokeFunction('convertToInteractive',\n",
              "                                                     [key], {});\n",
              "          if (!dataTable) return;\n",
              "\n",
              "          const docLinkHtml = 'Like what you see? Visit the ' +\n",
              "            '<a target=\"_blank\" href=https://colab.research.google.com/notebooks/data_table.ipynb>data table notebook</a>'\n",
              "            + ' to learn more about interactive tables.';\n",
              "          element.innerHTML = '';\n",
              "          dataTable['output_type'] = 'display_data';\n",
              "          await google.colab.output.renderOutput(dataTable, element);\n",
              "          const docLink = document.createElement('div');\n",
              "          docLink.innerHTML = docLinkHtml;\n",
              "          element.appendChild(docLink);\n",
              "        }\n",
              "      </script>\n",
              "    </div>\n",
              "  </div>\n",
              "  "
            ]
          },
          "metadata": {},
          "execution_count": 235
        }
      ]
    },
    {
      "cell_type": "code",
      "source": [
        "fig, ax1 = plt.subplots(figsize=(5, 7))\n",
        "\n",
        "ax1.set_xlabel('Test unit(sorted)')\n",
        "ax1.set_ylabel('RUL')\n",
        "ax1.set_ylim([0, 160])\n",
        "ax1.plot(df1['y_hat'], color='red', label='y_hat')\n",
        "ax1.plot(df1['y'], color='blue', label='y_rectified')\n",
        "ax1.plot(df1['y_real'], color='green', label='y_real')\n",
        "ax1.legend()\n",
        "ax1.text(0.60, 0.1, textstr, transform=ax1.transAxes, fontsize=14, verticalalignment='top', bbox=props)\n",
        "\n",
        "fig.tight_layout()\n",
        "plt.title('Sorted prediction for the test unit in FD001')\n",
        "plt.show()"
      ],
      "metadata": {
        "id": "9arTysegJNY6",
        "colab": {
          "base_uri": "https://localhost:8080/",
          "height": 526
        },
        "outputId": "ce674531-462a-4b4a-e01c-1d9f72bf0f4f"
      },
      "execution_count": 236,
      "outputs": [
        {
          "output_type": "display_data",
          "data": {
            "text/plain": [
              "<Figure size 360x504 with 1 Axes>"
            ],
            "image/png": "[encoded data removed]"
          },
          "metadata": {
            "needs_background": "light"
          }
        }
      ]
    },
    {
      "cell_type": "code",
      "source": [
        "df2 = df1[df1.y_real <= threshold]\n",
        "len(df2)"
      ],
      "metadata": {
        "colab": {
          "base_uri": "https://localhost:8080/"
        },
        "id": "6p6_Ft4ysTQ5",
        "outputId": "aef6b74b-e800-4093-def5-08d96815340d"
      },
      "execution_count": 237,
      "outputs": [
        {
          "output_type": "execute_result",
          "data": {
            "text/plain": [
              "43"
            ]
          },
          "metadata": {},
          "execution_count": 237
        }
      ]
    },
    {
      "cell_type": "code",
      "source": [
        "rmse, var = evaluate(df2['y'].values.tolist(), df2['y_hat'].values.tolist())\n",
        "res = score(df2['y'].values.tolist(), df2['y_hat'].values.tolist())"
      ],
      "metadata": {
        "colab": {
          "base_uri": "https://localhost:8080/"
        },
        "id": "XLlhpphXsjNV",
        "outputId": "42814405-1cdc-4738-b095-9d941c2af8c1"
      },
      "execution_count": 238,
      "outputs": [
        {
          "output_type": "stream",
          "name": "stdout",
          "text": [
            "test set RMSE:8.373, R2:0.820\n",
            "score: 50.408\n"
          ]
        }
      ]
    },
    {
      "cell_type": "code",
      "source": [
        "textstr = '\\n'.join((    \n",
        "    r'RMSE: %.2f' % (rmse, ),\n",
        "    r'Score: %.2f' % (res, )))\n",
        "\n",
        "# these are matplotlib.patch.Patch properties\n",
        "props = dict(boxstyle='round', facecolor='wheat', alpha=0.5)"
      ],
      "metadata": {
        "id": "WRzEBErDvvZN"
      },
      "execution_count": 239,
      "outputs": []
    },
    {
      "cell_type": "code",
      "source": [
        "fig, ax1 = plt.subplots(figsize=(5, 7))\n",
        "\n",
        "ax1.set_xlabel('Test unit(sorted)')\n",
        "ax1.set_ylabel('RUL')\n",
        "ax1.set_ylim([0, 160])\n",
        "ax1.plot(df2['y_hat'], color='red', label='y_hat')\n",
        "ax1.plot(df2['y'], color='blue', label='y_rectified')\n",
        "ax1.legend()\n",
        "ax1.text(0.60, 0.1, textstr, transform=ax1.transAxes, fontsize=14, verticalalignment='top', bbox=props)\n",
        "\n",
        "fig.tight_layout()\n",
        "plt.title('Sorted prediction for the test unit in FD001')\n",
        "plt.show()"
      ],
      "metadata": {
        "colab": {
          "base_uri": "https://localhost:8080/",
          "height": 526
        },
        "id": "HP6ZCRcwxmHt",
        "outputId": "c6b1a38a-9d2e-45ee-c04e-8db67c09bf22"
      },
      "execution_count": 240,
      "outputs": [
        {
          "output_type": "display_data",
          "data": {
            "text/plain": [
              "<Figure size 360x504 with 1 Axes>"
            ],
            "image/png": "[encoded data removed]"
          },
          "metadata": {
            "needs_background": "light"
          }
        }
      ]
    },
    {
      "cell_type": "code",
      "source": [
        ""
      ],
      "metadata": {
        "id": "2iiycwU0x248"
      },
      "execution_count": 240,
      "outputs": []
    }
  ]
}